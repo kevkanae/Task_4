{
 "cells": [
  {
   "cell_type": "code",
   "execution_count": 1,
   "metadata": {},
   "outputs": [
    {
     "name": "stderr",
     "output_type": "stream",
     "text": [
      "Using TensorFlow backend.\n"
     ]
    }
   ],
   "source": [
    "import cv2, os, joblib\n",
    "import numpy as np\n",
    "from pathlib import Path\n",
    "from keras.models import load_model"
   ]
  },
  {
   "cell_type": "code",
   "execution_count": 2,
   "metadata": {},
   "outputs": [],
   "source": [
    "def Learning():\n",
    "    import cv2\n",
    "    from pathlib import Path\n",
    "    from keras.models import Model, Sequential\n",
    "    from keras.preprocessing import image\n",
    "    from keras.applications import Xception\n",
    "    from keras.preprocessing.image import ImageDataGenerator\n",
    "    from keras.layers import Dense, Conv2D, GlobalAveragePooling2D, Dropout, Activation, Flatten\n",
    "    from keras.optimizers import RMSprop\n",
    "\n",
    "\n",
    "    img_rows, img_cols = 224, 224 \n",
    "    model = Xception(weights = 'imagenet', \n",
    "                     include_top = False, \n",
    "                     input_shape = (img_rows, img_cols, 3))\n",
    "\n",
    "\n",
    "    # Here we freeze the last 4 layers \n",
    "    # Layers are set to trainable as True by default\n",
    "    for layer in model.layers:\n",
    "        layer.trainable = False\n",
    "    #model.summary()\n",
    "\n",
    "\n",
    "    def add(BottomModel, Class):\n",
    "        top_model = BottomModel.output\n",
    "        top_model = GlobalAveragePooling2D()(top_model)\n",
    "        top_model = Flatten()(top_model)\n",
    "        top_model = Dense(1024,activation='relu')(top_model)\n",
    "        top_model = Dense(1024,activation='relu')(top_model)\n",
    "        top_model = Dense(512,activation='relu')(top_model)\n",
    "        top_model = Dense(Class,activation='softmax')(top_model)\n",
    "        return top_model\n",
    "\n",
    "\n",
    "    Class = 2\n",
    "    top = add(model, Class)\n",
    "    model = Model(inputs = model.input, outputs = top)\n",
    "\n",
    "\n",
    "    #model.summary()\n",
    "\n",
    "\n",
    "    dir = Path('C://Users//kevin//Documents//Project//Task_4//cell_images')\n",
    "    #Image Data Generator\n",
    "    train_datagen = ImageDataGenerator(\n",
    "            rescale=1./255,\n",
    "            shear_range=0.2,\n",
    "            zoom_range=0.2,\n",
    "            horizontal_flip=True)\n",
    "\n",
    "    validation_datagen = ImageDataGenerator(rescale=1./255)\n",
    "    test_datagen = ImageDataGenerator(rescale=1./255)\n",
    "\n",
    "    train_set = train_datagen.flow_from_directory(\n",
    "            dir / 'training_set',\n",
    "            target_size=(img_rows, img_cols),\n",
    "            batch_size=64,\n",
    "            class_mode='binary')\n",
    "\n",
    "    \n",
    "    test_set = test_datagen.flow_from_directory(\n",
    "        dir / 'testing_set',\n",
    "        target_size=(img_rows, img_cols),\n",
    "        batch_size=64,\n",
    "        class_mode='binary')\n",
    "\n",
    "\n",
    "    model.compile(optimizer='rmsprop',loss='binary_crossentropy',metrics=['accuracy'])\n",
    "    #validation_steps < validation_dataset_size / batch_size\n",
    "    model.fit(\n",
    "            train_set,\n",
    "            epochs=5,\n",
    "            validation_data=test_set)\n",
    "\n",
    "    model.save('TL_Model.h5')"
   ]
  },
  {
   "cell_type": "code",
   "execution_count": 3,
   "metadata": {
    "scrolled": true
   },
   "outputs": [],
   "source": [
    "def Test():    \n",
    "    import os, random\n",
    "    from PIL import Image, ImageFont, ImageDraw\n",
    "    from pathlib import Path\n",
    "    from keras.models import load_model\n",
    "    from keras.preprocessing import image\n",
    "\n",
    "    path = Path(\"C://Users//kevin//Documents//Project//Task_4//cell_images//prediction_set\")\n",
    "    fold = random.choice(os.listdir(path)) \n",
    "    im = Image.open(path / fold)\n",
    "    im = im.resize((224,224), resample = Image.NEAREST)\n",
    "    npimage = image.img_to_array(im)\n",
    "    npimage = np.expand_dims(npimage, axis=0)\n",
    "\n",
    "    model = load_model('TL_Model.h5')\n",
    "    \n",
    "    result = model.predict(npimage)\n",
    "    if result[0][0] == 1.0:\n",
    "        d = ImageDraw.Draw(im)\n",
    "        d.text((10,10), \"Parasitized\", fill=(255,255,0))\n",
    "        im.save('pil_twext.png')\n",
    "        newim = Image.open('pil_twext.png')\n",
    "        newim.show()\n",
    "    else:\n",
    "        d = ImageDraw.Draw(im)\n",
    "        d.text((10,10), \"Healthy\", fill=(255,255,0))\n",
    "        im.save('pil_twwext.png')\n",
    "        parim = Image.open('pil_twwext.png')\n",
    "        parim.show()"
   ]
  },
  {
   "cell_type": "code",
   "execution_count": 4,
   "metadata": {},
   "outputs": [],
   "source": [
    "#print('Yay, the file exists!') if k.A.exists() and k.B.exists() else print(\"Oops, file doesn't exist!\")"
   ]
  },
  {
   "cell_type": "code",
   "execution_count": 8,
   "metadata": {},
   "outputs": [
    {
     "name": "stdout",
     "output_type": "stream",
     "text": [
      "\n",
      "    1. Train Model\n",
      "    2. Test Model\n",
      "    3. Exit\n",
      "    \n",
      "What would you like to do? 3\n",
      "\n",
      " Goodbye\n"
     ]
    }
   ],
   "source": [
    "Choice = True\n",
    "while Choice:\n",
    "    print(\"\"\"\n",
    "    1. Train Model\n",
    "    2. Test Model\n",
    "    3. Exit\n",
    "    \"\"\")\n",
    "    Choice = input(\"What would you like to do? \")\n",
    "\n",
    "    if Choice == \"1\":\n",
    "        Learning()\n",
    "        print(\"\\nModel Trained\")\n",
    "    elif Choice == \"2\":\n",
    "        Test()\n",
    "        print(\"\\nTest Successful\")\n",
    "    elif Choice == \"3\":\n",
    "      print(\"\\n Goodbye\") \n",
    "      Choice = None\n",
    "    else:\n",
    "       print(\"\\n Not Valid Choice Try again\")"
   ]
  },
  {
   "cell_type": "code",
   "execution_count": null,
   "metadata": {},
   "outputs": [],
   "source": []
  }
 ],
 "metadata": {
  "kernelspec": {
   "display_name": "Python 3",
   "language": "python",
   "name": "python3"
  },
  "language_info": {
   "codemirror_mode": {
    "name": "ipython",
    "version": 3
   },
   "file_extension": ".py",
   "mimetype": "text/x-python",
   "name": "python",
   "nbconvert_exporter": "python",
   "pygments_lexer": "ipython3",
   "version": "3.8.2"
  }
 },
 "nbformat": 4,
 "nbformat_minor": 4
}
